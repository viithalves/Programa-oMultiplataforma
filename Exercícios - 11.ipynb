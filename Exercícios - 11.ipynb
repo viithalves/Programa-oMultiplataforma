{
 "cells": [
  {
   "cell_type": "markdown",
   "metadata": {},
   "source": [
    "### Exercício 11\n",
    "**Nome**: Vitor Alves Martins Lopes Barbosa  <br>\n",
    "**RA**: 817122770"
   ]
  },
  {
   "cell_type": "markdown",
   "metadata": {},
   "source": [
    "1 Menor de dois pares: Escreva uma função que retorne o menor de dois números dados se ambos os números forem pares, mas retorna o maior se um dos dois for ímpar. \n",
    "<br>Exemplo: \n",
    "<br>menor_de_dois_pares(2,4) --> 2 \n",
    "<br>menor_de_dois_pares (2,5) --> 5"
   ]
  },
  {
   "cell_type": "code",
   "execution_count": 12,
   "metadata": {},
   "outputs": [
    {
     "name": "stdout",
     "output_type": "stream",
     "text": [
      "2\n",
      "5\n"
     ]
    }
   ],
   "source": [
    "def menor_de_dois_pares(a,b):\n",
    "    if a%2==0 and b%2==0:\n",
    "        if a > b:\n",
    "            print(b)\n",
    "        elif a == b:\n",
    "            print(\"São iguais\")\n",
    "        else:\n",
    "            print(a)\n",
    "    else:\n",
    "        if b > a:\n",
    "            print(b)\n",
    "        elif a == b:\n",
    "            print(\"São iguais\")\n",
    "        else:\n",
    "            print(a)\n",
    "\n",
    "menor_de_dois_pares(2,4)\n",
    "menor_de_dois_pares(2,5)"
   ]
  },
  {
   "cell_type": "markdown",
   "metadata": {},
   "source": [
    "2 Mesma letra: Escreva uma função que receba uma string com duas palavras e retorne True se ambas palavras começarem com a mesma letra. \n",
    "<br>Exemplo: \n",
    "<br>mesma_letra('Cão covarde') -> True \n",
    "<br>mesma_letra('Vira Lata') -> False"
   ]
  },
  {
   "cell_type": "code",
   "execution_count": 19,
   "metadata": {},
   "outputs": [
    {
     "name": "stdout",
     "output_type": "stream",
     "text": [
      "True\n",
      "False\n"
     ]
    }
   ],
   "source": [
    "def mesma_letra(s1):\n",
    "    i = 0\n",
    "    for letra in s1:\n",
    "        if letra ==\"C\" or letra == \" C\":\n",
    "            m = \"True\"\n",
    "            i += 1\n",
    "        else:\n",
    "            m2 = \"False\"\n",
    "    else:\n",
    "        if i == 2:\n",
    "            print(m)\n",
    "        else:\n",
    "            print(m2)\n",
    "\n",
    "mesma_letra(\"Cão Covarde\")\n",
    "mesma_letra(\"Vira Lata\")"
   ]
  },
  {
   "cell_type": "markdown",
   "metadata": {},
   "source": [
    "3 Mestre Yoda: Dada uma sentença, a função deve retornar a sentença com as palavras na ordem reversa. \n",
    "<br>Exemplo: \n",
    "<br>mestre_yoda('Eu estou em casa') --> 'casa em estou Eu'\n",
    "<br>mestre_yoda('Estamos prontos') --> 'prontos Estamos' "
   ]
  },
  {
   "cell_type": "code",
   "execution_count": 1,
   "metadata": {},
   "outputs": [
    {
     "name": "stdout",
     "output_type": "stream",
     "text": [
      " casa em estou Eu\n",
      " prontos Estamos\n"
     ]
    }
   ],
   "source": [
    "def mestre_yoda(s):\n",
    "    lista = s.split()[::-1]\n",
    "    s = ''\n",
    "    for i in lista:\n",
    "        s += ' ' + i\n",
    "    return s\n",
    "\n",
    "\n",
    "print(mestre_yoda('Eu estou em casa'))\n",
    "print(mestre_yoda('Estamos prontos'))"
   ]
  },
  {
   "cell_type": "markdown",
   "metadata": {
    "collapsed": true
   },
   "source": [
    "4 Tem 33: Faça uma função que retorne True se, dada uma lista de inteiros, houver em alguma posição da lista um 3 do lado de outro 3. \n",
    "<br>Exemplo: \n",
    "<br>tem_33([1,3,3]) --> True \n",
    "<br>tem_33([1,3,1,3]) --> False \n",
    "<br>tem_33([3,1,3]) --> False"
   ]
  },
  {
   "cell_type": "code",
   "execution_count": 20,
   "metadata": {},
   "outputs": [
    {
     "name": "stdout",
     "output_type": "stream",
     "text": [
      "True\n",
      "False\n"
     ]
    }
   ],
   "source": [
    "def tem_33(l=[]):\n",
    "    i = 0\n",
    "    atual = 1\n",
    "    prox = 0\n",
    "    for lista in l:\n",
    "        if lista == 3:\n",
    "            atual = lista\n",
    "        else:\n",
    "            prox = lista\n",
    "        \n",
    "        if atual == prox:\n",
    "            i += 1\n",
    "    else:\n",
    "        if i >= 1:\n",
    "            print(\"True\")\n",
    "        else:\n",
    "            print(\"False\")\n",
    "            \n",
    "tem_33([1,3,3])\n",
    "tem_33([3,1,3])"
   ]
  },
  {
   "cell_type": "markdown",
   "metadata": {},
   "source": [
    "5 Blackjack: Faça uma função que receba 3 inteiros entre 1 e 11. Se a soma deles for menor que 21, retorne o valor da soma. Se for mair do que 21 e houver um 11, subtraia 10 da soma antes de apresentar o resultado. Se o valor da soma passar de 21, retorne ‘ESTOUROU’. \n",
    "<br>Exemplo: \n",
    "<br>blackjack(5,6,7) --> 18 \n",
    "<br>blackjack(9,9,9) --> 'ESTOUROU' \n",
    "<br>blackjack(9,9,11) --> 19"
   ]
  },
  {
   "cell_type": "code",
   "execution_count": 8,
   "metadata": {},
   "outputs": [
    {
     "name": "stdout",
     "output_type": "stream",
     "text": [
      "18\n",
      "ESTOUROU\n",
      "19\n"
     ]
    }
   ],
   "source": [
    "def blackjack(n,n2,n3):\n",
    "    soma = n+n2+n3\n",
    "    if soma <= 21:\n",
    "        print(soma)\n",
    "    elif soma > 21 and n == 11 or n2 == 11 or n3 == 11:\n",
    "        novo = soma - 10\n",
    "        print(novo)\n",
    "    else:\n",
    "        print('ESTOUROU')\n",
    "        \n",
    "blackjack(5,6,7)\n",
    "blackjack(9,9,9)\n",
    "blackjack(9,9,11)"
   ]
  },
  {
   "cell_type": "markdown",
   "metadata": {},
   "source": [
    "6 Espião: Escreva uma função que receba uma lista de inteiros e retorne True se contém um 007 em ordem, mesmo que não contínuo. <br>Exemplo: \n",
    "<br> - espiao([1,2,4,0,0,7,5]) --> True\n",
    "<br> - espiao([1,0,2,4,0,5,7]) --> True \n",
    "<br> - espiao([1,7,2,4,0,5,0]) --> False"
   ]
  },
  {
   "cell_type": "code",
   "execution_count": 2,
   "metadata": {},
   "outputs": [
    {
     "name": "stdout",
     "output_type": "stream",
     "text": [
      "True\n",
      "True\n",
      "False\n"
     ]
    }
   ],
   "source": [
    "def espiao(lista):\n",
    "    chave = [0,0,7]\n",
    "    ret = [False, False, False]\n",
    "    k = 0\n",
    "    for i in lista:\n",
    "        if i == chave[k]:\n",
    "            ret[k] = True\n",
    "            k += 1\n",
    "            if k >= len(chave):\n",
    "                break\n",
    "    return ret[0] and ret[1] and ret[2]\n",
    "\n",
    "print(espiao([1,2,4,0,0,7,5]))\n",
    "print(espiao([1,0,2,4,0,5,7]))\n",
    "print(espiao([1,7,2,4,0,5,0]))"
   ]
  },
  {
   "cell_type": "code",
   "execution_count": 3,
   "metadata": {},
   "outputs": [
    {
     "name": "stdout",
     "output_type": "stream",
     "text": [
      "True\n",
      "True\n",
      "False\n"
     ]
    }
   ],
   "source": [
    "def espiao1(lista):\n",
    "    chave = [0,0,7]\n",
    "    pos = 0\n",
    "    for k in chave:\n",
    "        if k in lista[pos:]:\n",
    "            pos = lista[pos:].index(k)\n",
    "            pos += 1\n",
    "        else:\n",
    "            break\n",
    "    else:\n",
    "        return True\n",
    "    return False\n",
    "\n",
    "print(espiao1([1,2,4,0,0,7,5]))\n",
    "print(espiao1([1,0,2,4,0,5,7]))\n",
    "print(espiao1([1,7,2,4,0,5,0]))"
   ]
  },
  {
   "cell_type": "markdown",
   "metadata": {},
   "source": [
    "7 Linha: Crie a classe Linha que tem dois atributos, coordenada1 e coordenada2. Cada coordenada é uma tupla que carrega duas coordenadas cartesianas (x,y) que denotam pontos do segmento de reta. Faça métodos que calculem o comprimento do segmento de reta e sua inclinação."
   ]
  },
  {
   "cell_type": "code",
   "execution_count": 46,
   "metadata": {
    "collapsed": true
   },
   "outputs": [],
   "source": [
    "class Linha:\n",
    "    def __init__(self,coordenada1,coordenada2):\n",
    "        self._coordenada1 = coordenada1\n",
    "        self._coordenada2 = coordenada2\n",
    "        \n",
    "    def comprimento_reta(self):\n",
    "        x = coordenada2[0]-coordenada1[0]\n",
    "        y = coordenada2[1]-coordenada1[1]\n",
    "        h = (x**2 + y**2)**(0.5)\n",
    "        return h\n",
    "     \n",
    "    def set_coordenada1(self,coordenada1):\n",
    "        self._coordenada1 = coordenada1\n",
    "        \n",
    "    def set_coordenada2(self,coordenada2):\n",
    "        self._coordenada2 = coordenada2\n",
    "    \n",
    "    def inclinacao_reta(self):\n",
    "        x = abs(coordenada2[0]-coordenada1[0])\n",
    "        y = abs(coordenada2[1]-coordenada1[1])\n",
    "        h = (x**2 + y**2)**(0.5)\n",
    "        return y/h"
   ]
  },
  {
   "cell_type": "code",
   "execution_count": 47,
   "metadata": {},
   "outputs": [
    {
     "name": "stdout",
     "output_type": "stream",
     "text": [
      "Comprimento: 5.385164807134504\n",
      "Inclinação: 0.3713906763541037\n",
      "Comprimento: 17.0\n",
      "Inclinação: 0.47058823529411764\n",
      "Comprimento: 5.385164807134504\n",
      "Inclinação: 0.3713906763541037\n"
     ]
    }
   ],
   "source": [
    "coordenada1 = (5,3)\n",
    "coordenada2 = (10,5)\n",
    "linha = Linha(coordenada1,coordenada2)\n",
    "print(\"Comprimento:\",linha.comprimento_reta())\n",
    "print(\"Inclinação:\",linha.inclinacao_reta())\n",
    "\n",
    "coordenada1 = (10,-5)\n",
    "coordenada2 = (-5,3)\n",
    "linha.set_coordenada1(coordenada1)\n",
    "linha.set_coordenada2(coordenada2)\n",
    "print(\"Comprimento:\",linha.comprimento_reta())\n",
    "print(\"Inclinação:\",linha.inclinacao_reta())\n",
    "\n",
    "coordenada1 = (10,5)\n",
    "coordenada2 = (5,3)\n",
    "linha.set_coordenada1(coordenada1)\n",
    "linha.set_coordenada2(coordenada2)\n",
    "print(\"Comprimento:\",linha.comprimento_reta())\n",
    "print(\"Inclinação:\",linha.inclinacao_reta())"
   ]
  },
  {
   "cell_type": "markdown",
   "metadata": {},
   "source": [
    "8 Figuras: Crie a seguinte hierarquia de classes de figuras geométricas. Veja na figura as fórmulas:\n",
    "<br>\n",
    "<br> a. A classe abstrata Figura deve ter o método abstrato area. \n",
    "<br> b. A classe concreta Circulo é subclasse de Figura. \n",
    "<br> c. A classe abstrata Poligono é subclasse de Figura e deve ter os atributos base e altura . \n",
    "<br> d. As classes concretas Triangulo, Losango, Retangulo e Quadrado são subclasses de Poligono. Tente criar mais uma generalização aqui olhando as fórmulas da área. \n",
    "<br> e. Os polígonos Retangulo e Quadrado devem implementar a interface Diagonal, que deve ter um método que calcula a diagonal. <br> f. Crie uma classe Geometria com uma lista de Figuras com pelo menos uma figura de cada e imprima suas áreas, perímetros e diagonais."
   ]
  },
  {
   "cell_type": "code",
   "execution_count": 5,
   "metadata": {},
   "outputs": [],
   "source": [
    "class Figura:\n",
    "    def area(self):\n",
    "        raise NotImplementedError(\n",
    "            \"A subclasse deve implementar o método abstrato\")\n",
    "    def perimetro(self):\n",
    "        raise NotImplementedError(\n",
    "            \"A subclasse deve implementar o método abstrato\")"
   ]
  },
  {
   "cell_type": "code",
   "execution_count": 6,
   "metadata": {},
   "outputs": [
    {
     "name": "stdout",
     "output_type": "stream",
     "text": [
      "28.274333882308138\n",
      "18.84955592153876\n"
     ]
    }
   ],
   "source": [
    "from math import pi\n",
    "class Circulo(Figura):\n",
    "    def __init__(self, raio):\n",
    "        self.raio = raio\n",
    "    def area(self):\n",
    "        return self.raio**2 * pi\n",
    "    \n",
    "    def perimetro(self):\n",
    "        return 2*pi*self.raio\n",
    "    \n",
    "    \n",
    "circulo = Circulo(3)\n",
    "print(circulo.area())\n",
    "print(circulo.perimetro())"
   ]
  },
  {
   "cell_type": "code",
   "execution_count": 7,
   "metadata": {},
   "outputs": [],
   "source": [
    "from math import sqrt\n",
    "\n",
    "class Poligono(Figura):\n",
    "    def __init__(self,base,altura):\n",
    "        self._base=base\n",
    "        self._altura=altura\n",
    "        \n",
    "    def area(self):\n",
    "        return self._base * self._altura\n",
    "\n",
    "# Python nao tem interface, então deve ser definida uma nova classe\n",
    "# Utilizar herança múltipla\n",
    "class Diagonal:\n",
    "    def __init__(self,base,altura):\n",
    "        self._base=base\n",
    "        self._altura=altura\n",
    "        \n",
    "    def diagonal(self):\n",
    "        return sqrt(self._base**2 + self._altura**2)\n",
    "    \n",
    "class Quadrilatero(Figura):\n",
    "    def __init__(self,base,altura):\n",
    "        self._base=base\n",
    "        self._altura=altura\n",
    "        \n",
    "    def perimetro(self):\n",
    "        return (self._base*2 + self._altura*2)\n",
    "        \n",
    "# Heranca múltipla. Se existirem métodos com a mesma assinatura\n",
    "# vindos das classes herdadas, será invocado pela ordem das classes\n",
    "# dentro dos parêntesis da herança\n",
    "class Quadrado(Poligono,Diagonal,Quadrilatero):\n",
    "    def __init__(self,lado):\n",
    "        Poligono.__init__(self,lado,lado)\n",
    "        Diagonal.__init__(self,lado,lado)\n",
    "        Quadrilatero.__init__(self,lado,lado)\n",
    "    \n",
    "class Retangulo(Poligono,Diagonal,Quadrilatero):\n",
    "    def __init__(self,base,altura):\n",
    "        Poligono.__init__(self,base,altura)\n",
    "        Diagonal.__init__(self,base,altura)\n",
    "        Quadrilatero.__init__(self,base,altura)\n",
    "        \n",
    "class Losango(Poligono,Quadrilatero):\n",
    "    def __init__(self,base,altura):\n",
    "        Poligono.__init__(self,base,altura)\n",
    "        Quadrilatero.__init__(self,base,altura)\n",
    "\n",
    "# como não é possível calcular o perímetro de um triângulo tendo somente\n",
    "# base e altura, triângulo será subclasse diretamente de figura e irá pedir \n",
    "# os três lados, usando o teorema de Herão para calcular a área\n",
    "class Triangulo(Figura):\n",
    "    def __init__(self,lado1,lado2,lado3):\n",
    "        if lado1>=lado2+lado3 or lado2>=lado1+lado3 or lado3>=lado1+lado2:\n",
    "            raise Eception(\"Não é um triângulo\")\n",
    "            \n",
    "        self._lado1 = lado1\n",
    "        self._lado2 = lado2\n",
    "        self._lado3 = lado3\n",
    "    \n",
    "    def perimetro(self):\n",
    "        return self._lado1 + self._lado2 + self._lado3\n",
    "    \n",
    "    def area(self):\n",
    "        s = self.perimetro()/2\n",
    "        return sqrt(s*(s-self._lado1)*(s-self._lado2)*(s-self._lado3))\n",
    "    \n",
    "class Geometria:\n",
    "    pass"
   ]
  },
  {
   "cell_type": "code",
   "execution_count": 8,
   "metadata": {},
   "outputs": [
    {
     "name": "stdout",
     "output_type": "stream",
     "text": [
      "<class '__main__.Circulo'>------------------------------------------------------------\n",
      "área: 28.27\n",
      "perímetro: 18.85\n",
      "<class '__main__.Quadrado'>------------------------------------------------------------\n",
      "área: 4.00\n",
      "perímetro: 8.00\n",
      "diagonal: 2.83\n",
      "<class '__main__.Retangulo'>------------------------------------------------------------\n",
      "área: 6.00\n",
      "perímetro: 10.00\n",
      "diagonal: 3.61\n",
      "<class '__main__.Triangulo'>------------------------------------------------------------\n",
      "área: 2.90\n",
      "perímetro: 9.00\n",
      "<class '__main__.Losango'>------------------------------------------------------------\n",
      "área: 6.00\n",
      "perímetro: 10.00\n"
     ]
    }
   ],
   "source": [
    "figuras = [Circulo(3), Quadrado(2), Retangulo(2,3), Triangulo(2,3,4), Losango(3,2)]\n",
    "for figura in figuras:\n",
    "    print(str(type(figura))+'-'*60)\n",
    "    # todo mundo sabe calcular area e perimetro\n",
    "    print('área: %.2f' % (figura.area()))\n",
    "    print('perímetro: %.2f' % (figura.perimetro()))\n",
    "    if isinstance(figura,Diagonal):\n",
    "        print('diagonal: %.2f' % (figura.diagonal()))"
   ]
  },
  {
   "cell_type": "markdown",
   "metadata": {},
   "source": [
    "9 Jogo de Blacjack: Faça um joguinho simples em Python. Aqui estão os requisitos: \n",
    "<br>- Você precisa criar um jogo de BlackJack (21) baseado em texto simples \n",
    "<br>- O jogo precisa ter um jogador contra um croupier automatizado. \n",
    "<br>- O jogador pode desistir ou bater. \n",
    "<br>- O jogador deve ser capaz de escolher o seu valor de aposta. \n",
    "<br>- Você precisa acompanhar o dinheiro total do jogador. \n",
    "<br>- Você precisa alertar o jogador de vitórias, derrotas ou estouros, etc ... \n",
    "<br>E o mais importante: Você deve usar OOP e classes em alguma parte do seu jogo. Você não pode simplesmente usar funções no seu jogo. Use classes para ajudá-lo a definir o deck e a mão do jogador. Há muitas maneiras certas de fazer isso, então explore bem!"
   ]
  },
  {
   "cell_type": "code",
   "execution_count": 25,
   "metadata": {},
   "outputs": [
    {
     "name": "stdout",
     "output_type": "stream",
     "text": [
      "Bem Vindo ao BlackJack em Python!! \n",
      "\n",
      "Quantos jogadores participarão da partida? \n",
      "2\n",
      "O jogo funciona por turnos, cada jogador terá sua vez e decidirá o que fazer...\n",
      "\n",
      "Você tem que fazer 21 pontos para ganhar, porém sem estourar esse limite, podendo parar após cada jogada.\n",
      "\n",
      "Deseja fazer a jogada?[S/N] \n",
      "s\n",
      "Você tirou 6 e até agora marcou 0 pontos.\n",
      "\n",
      "Deseja fazer a jogada?[S/N] \n",
      "s\n",
      "Você tirou 10 e até agora marcou 0 pontos.\n",
      "\n",
      "Deseja fazer a jogada?[S/N] \n",
      "1\n",
      "Você tirou 4 e até agora marcou 0 pontos.\n",
      "\n",
      "Você tem que fazer 21 pontos para ganhar, porém sem estourar esse limite, podendo parar após cada jogada.\n",
      "\n",
      "Cuidado, pois o jogador 1 marcou 20 pontos\n",
      "Deseja fazer a jogada?[S/N] \n",
      "n\n",
      "O jogador 1 terminou com 20 pontos e o jogador 2 com 20 pontos, portanto...\n",
      "O jogador 2 vence por estar mais perto de 21.\n",
      "\n"
     ]
    }
   ],
   "source": [
    "import os\n",
    "import random  \n",
    "import time    \n",
    "\n",
    "opjogo = 0\n",
    "jogada = 0\n",
    "totalj = 0\n",
    "totalc = 0\n",
    "\n",
    "total1 = 0\n",
    "total2 = 0\n",
    "\n",
    "print(\"Bem Vindo ao BlackJack em Python!! \\n\")\n",
    "opjogo =input(\"Quantos jogadores participarão da partida? \\n\")\n",
    "if opjogo == '1':\n",
    "\n",
    "    opjogo='S';\n",
    "    os.system('clear')\n",
    "    print(\"Você tem que fazer 21 pontos para ganhar, porém sem estourar esse limite, podendo parar após cada jogada.\\n\");\n",
    "    print\n",
    "    totalj=0\n",
    "    while opjogo=='s' or opjogo=='S':   \n",
    "        opjogo = input(\"Deseja fazer a jogada?[S/N] \\n\")\n",
    "        if opjogo=='n' or opjogo=='N':\n",
    "            break\n",
    "        jogada= random.randint(1,10)\n",
    "        totalj=(totalj+jogada)\n",
    "        if totalj >= 21:\n",
    "            break\n",
    "        print\n",
    "        print(\"Você tirou {0} e até agora marcou {1} pontos.\\n\".format(jogada,totalj))\n",
    "        print\n",
    "\n",
    "    print(\"Você marcou {0} pontos, vamos ver o computador...\\n\".format(totalj))\n",
    "\n",
    "    print(\"Agora é minha vez de jogar. Vejo que você fez {0} pontos...\\n\".format(totalj))\n",
    "    totalc=0\n",
    "    while (totalc < 21):\n",
    "        jogada= random.randint(1,10)\n",
    "        totalc=(totalc+jogada)\n",
    "        if totalj > 21:\n",
    "                break\n",
    "        print(\"Tirei {0} pontos e pretendo continuar jogando, pois ainda estou com {1}.\\n\".format(jogada,totalc))\n",
    "        time.sleep(1.2)\n",
    "\n",
    "    print\n",
    "\n",
    "    print(\"O jogador terminou com {0} pontos e o computador com {1} pontos, portanto...\".format(totalj,totalc))\n",
    "    if totalj == 21:\n",
    "        print(\"O jogador ganhou, fazendo os gloriosos 21 pontos =D...\\n\")\n",
    "    elif totalc == 21:\n",
    "        print(\"O computador ganhou, fazendo os gloriosos 21 pontos =D...\\n\")\n",
    "    elif totalc > 21 and totalj <= 21:\n",
    "        print(\"O computador tem um número maior de pontos do que é permitido...O jogador vence.\\n\")\n",
    "    elif totalj > 21 and totalc <= 21:\n",
    "        print(\"O jogador tem um número maior de pontos do que é permitido...O computador vence.\\n\")\n",
    "    elif 21 - totalc > 21 - totalj:\n",
    "        print(\"O computador vence por estar mais perto de 21.\\n\")\n",
    "    elif 21 - totalc < 21 - totalj:\n",
    "        print(\"O jogador vence por estar mais perto de 21.\\n\")\n",
    "        print\n",
    "\n",
    "if opjogo=='2':\n",
    "    print(\"O jogo funciona por turnos, cada jogador terá sua vez e decidirá o que fazer...\\n\")\n",
    "\n",
    "    opjogo='S'\n",
    "    os.system('clear')\n",
    "    print(\"Você tem que fazer 21 pontos para ganhar, porém sem estourar esse limite, podendo parar após cada jogada.\\n\")\n",
    "    print\n",
    "    totalj=0\n",
    "    while opjogo=='s' or opjogo=='S':\n",
    "        opjogo = input(\"Deseja fazer a jogada?[S/N] \\n\")\n",
    "        if opjogo=='n' or opjogo=='N':\n",
    "            break\n",
    "        jogada= random.randint(1,10)\n",
    "        total1=(total1+jogada)\n",
    "        if totalj >= 21:\n",
    "            break\n",
    "        print\n",
    "        print(\"Você tirou {0} e até agora marcou {1} pontos.\\n\".format(jogada,totalj))\n",
    "        print\n",
    "\n",
    "    opjogo='S'\n",
    "    os.system('clear')\n",
    "    print(\"Você tem que fazer 21 pontos para ganhar, porém sem estourar esse limite, podendo parar após cada jogada.\\n\")\n",
    "    print(\"Cuidado, pois o jogador 1 marcou {0} pontos\".format(total1))\n",
    "    print\n",
    "    totalj=0\n",
    "    while opjogo=='s' or opjogo=='S':\n",
    "        opjogo = input(\"Deseja fazer a jogada?[S/N] \\n\")\n",
    "        if opjogo=='n' or opjogo=='N':\n",
    "            break\n",
    "        jogada= random.randint(1,10)\n",
    "        total2=(total2+jogada)\n",
    "        if total2 >= 21:\n",
    "            break\n",
    "        print\n",
    "        print(\"Você tirou {0} e até agora marcou {1} pontos.\\n\".format(jogada,total2))\n",
    "\n",
    "    print(\"O jogador 1 terminou com {0} pontos e o jogador 2 com {1} pontos, portanto...\".format(total1,total1))\n",
    "    if total1 == 21:\n",
    "        print(\"O jogador 1 ganhou, fazendo os gloriosos 21 pontos =D...\\n\")\n",
    "    elif total2 == 21:\n",
    "        print(\"O computador ganhou, fazendo os gloriosos 21 pontos =D...\\n\")\n",
    "    elif total2 > 21 and total1 <= 21:\n",
    "        print(\"O computador tem um número maior de pontos do que é permitido...O jogador vence.\\n\")\n",
    "    elif total1 > 21 and total2 <= 21:\n",
    "        print(\"O jogador tem um número maior de pontos do que é permitido...O computador vence.\\n\")\n",
    "    elif total1==total2:\n",
    "        print(\"Houve um empate...\")\n",
    "    elif 21 - total2 > 21 - total1:\n",
    "        print(\"O jogador 2 vence por estar mais perto de 21.\\n\")\n",
    "    else:\n",
    "        print(\"O jogador 1 vence por estar mais perto de 21.\\n\")\n",
    "        print\n",
    "\n",
    "else:\n",
    "    print(\"O máximo de jogadores permitidos é de 2 \\n\")"
   ]
  }
 ],
 "metadata": {
  "kernelspec": {
   "display_name": "Python 3",
   "language": "python",
   "name": "python3"
  },
  "language_info": {
   "codemirror_mode": {
    "name": "ipython",
    "version": 3
   },
   "file_extension": ".py",
   "mimetype": "text/x-python",
   "name": "python",
   "nbconvert_exporter": "python",
   "pygments_lexer": "ipython3",
   "version": "3.7.0"
  }
 },
 "nbformat": 4,
 "nbformat_minor": 2
}
