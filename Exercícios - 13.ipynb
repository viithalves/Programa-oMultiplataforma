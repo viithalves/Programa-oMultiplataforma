{
 "cells": [
  {
   "cell_type": "markdown",
   "metadata": {},
   "source": [
    "### Exercício 13\n",
    "**Nome:** Vitor Alves Martins Lopes Barbosa<br>\n",
    "**RA:** 817122770"
   ]
  },
  {
   "cell_type": "markdown",
   "metadata": {},
   "source": [
    "1 Defina a função soma_nat que recebe como argumento um número natural n\n",
    "e devolve a soma de todos os números naturais até n.\n",
    "<br>\n",
    "Ex: soma_nat(5) = 15"
   ]
  },
  {
   "cell_type": "code",
   "execution_count": 3,
   "metadata": {},
   "outputs": [
    {
     "name": "stdout",
     "output_type": "stream",
     "text": [
      "55\n"
     ]
    }
   ],
   "source": [
    "soma_nat = lambda n:1 if n==1 else n+soma_nat(n-1)\n",
    "print(soma_nat(10))"
   ]
  },
  {
   "cell_type": "markdown",
   "metadata": {},
   "source": [
    "2 Defina a função div que recebe como argumentos dois números naturais m e n e devolve o resultado da divisão inteira de m por n. Neste exercício você não pode recorrer às operações aritméticas de multiplicação, divisão e resto da divisão\n",
    "inteira.\n",
    "<br>\n",
    "Ex: div(7,2) = 3"
   ]
  },
  {
   "cell_type": "code",
   "execution_count": 4,
   "metadata": {},
   "outputs": [
    {
     "name": "stdout",
     "output_type": "stream",
     "text": [
      "160\n"
     ]
    }
   ],
   "source": [
    "div = lambda m,n: 0 if m < n else 1+div((m-n),n)\n",
    "print(div(321,2))"
   ]
  },
  {
   "cell_type": "markdown",
   "metadata": {},
   "source": [
    "3 Defina a função prim_alg que recebe como argumento um número natural e devolve o primeiro algarismo (o mais significativo) na representação decimal de n.\n",
    "<br>\n",
    "Ex: prim_alg(5649) = 5\n",
    "<br>\n",
    "Ex: prim_alg(7) = 7"
   ]
  },
  {
   "cell_type": "code",
   "execution_count": 5,
   "metadata": {},
   "outputs": [
    {
     "name": "stdout",
     "output_type": "stream",
     "text": [
      "3\n",
      "8\n"
     ]
    }
   ],
   "source": [
    "prim_alg = lambda n: n[0]\n",
    "print(prim_alg('34672934'))\n",
    "print(prim_alg('8721'))"
   ]
  },
  {
   "cell_type": "markdown",
   "metadata": {},
   "source": [
    "4 Defina a função prod_lista que recebe como argumento uma lista de inteiros e\n",
    "devolve o produto dos seus elementos.\n",
    "<br>\n",
    "Ex: prod_lista([1,2,3,4,5,6]) = 720"
   ]
  },
  {
   "cell_type": "code",
   "execution_count": 8,
   "metadata": {},
   "outputs": [
    {
     "name": "stdout",
     "output_type": "stream",
     "text": [
      "720\n"
     ]
    }
   ],
   "source": [
    "prod_lista = lambda lista: lista[len(lista) - 1] * prod_lista(lista[:-1]) if len(lista) > 0 else 1\n",
    "print(prod_lista([1,2,3,4,5,6]))"
   ]
  },
  {
   "cell_type": "markdown",
   "metadata": {},
   "source": [
    "5 Defina a função contem_parQ que recebe como argumento uma lista de números inteiros w e devolve True se w contém um número par e False em caso contrário.\n",
    "<br>\n",
    "Ex: contem_parQ([2,3,1,2,3,4]) = True\n",
    "<br>\n",
    "Ex: contem_parQ([1,3,5,7]) = False"
   ]
  },
  {
   "cell_type": "code",
   "execution_count": 6,
   "metadata": {},
   "outputs": [
    {
     "name": "stdout",
     "output_type": "stream",
     "text": [
      "True\n",
      "False\n"
     ]
    }
   ],
   "source": [
    "contem_parQ = lambda lista: False if lista==[] else (lista[len(lista)-1]%2==0 if lista[len(lista)-1]%2==0 else ((lista.pop(len(lista)-1) and False) or (contem_parQ(lista) and True)))\n",
    "\n",
    "print(contem_parQ([6,7,8,9,1,5]))\n",
    "print(contem_parQ([1,5,7,9]))"
   ]
  },
  {
   "cell_type": "markdown",
   "metadata": {},
   "source": [
    "6 Defina a função todos_imparesQ que recebe como argumento uma lista de números inteiros w e devolve True se w contém apenas números ímpares e False em caso contrário.\n",
    "<br>\n",
    "Ex: todos_imparesQ([1,3,5,7]) = True\n",
    "<br>\n",
    "Ex: todos_imparesQ([]) = True\n",
    "<br>\n",
    "Ex: todos_imparesQ([1,2,3,4,5]) = False"
   ]
  },
  {
   "cell_type": "code",
   "execution_count": 7,
   "metadata": {},
   "outputs": [
    {
     "name": "stdout",
     "output_type": "stream",
     "text": [
      "True\n",
      "False\n"
     ]
    }
   ],
   "source": [
    "todos_imparesQ = lambda lista: True if lista==[] or len(lista)==1 else (False if lista[len(lista)-1]%2==0 else (lista.pop(len(lista)-1) and False) or (todos_imparesQ(lista) and True))  \n",
    "\n",
    "\n",
    "print(todos_imparesQ([3,7,9,5]))\n",
    "print(todos_imparesQ([2,3,7,8,9]))"
   ]
  },
  {
   "cell_type": "markdown",
   "metadata": {},
   "source": [
    "7 Defina a função pertenceQ que recebe como argumentos uma lista de números inteiros w e um número inteiro n e devolve True se n ocorre em w e False em caso contrário.\n",
    "<br>\n",
    "Ex: pertenceQ([1,2,3],1) = True\n",
    "<br>\n",
    "Ex: pertenceQ([1,2,3],2) = True\n",
    "<br>\n",
    "Ex: pertenceQ([1,2,3],3) = True\n",
    "<br>\n",
    "Ex: pertenceQ([1,2,3],4) = False"
   ]
  },
  {
   "cell_type": "code",
   "execution_count": null,
   "metadata": {},
   "outputs": [],
   "source": []
  },
  {
   "cell_type": "markdown",
   "metadata": {},
   "source": [
    "8 Defina a função junta que recebe como argumentos duas listas de números inteiros w1 e w2 e devolve a concatenação de w1 com w2.\n",
    "<br>\n",
    "Ex: junta([1,2,3],[4,5,6]) = [1, 2, 3, 4, 5, 6]\n",
    "<br>\n",
    "Ex: junta([],[4,5,6]) = [4, 5, 6]\n",
    "<br>\n",
    "Ex: junta([1,2,3],[]) = [1, 2, 3]"
   ]
  },
  {
   "cell_type": "code",
   "execution_count": null,
   "metadata": {},
   "outputs": [],
   "source": []
  },
  {
   "cell_type": "markdown",
   "metadata": {},
   "source": [
    "9 Defina a função temPrimoQ que recebe como argumento uma lista de listas de números inteiros w e devolve True se alguma das sublistas w tem um número primo e False em caso contrário.\n",
    "<br>\n",
    "Ex: temPrimoQ([[4,4,4,4],[5,4,6,7],[2,4,3]]) = True\n",
    "<br>\n",
    "Ex: temPrimoQ([[4,4,4,4],[4,4,4],[],[4]]) = False"
   ]
  },
  {
   "cell_type": "code",
   "execution_count": null,
   "metadata": {},
   "outputs": [],
   "source": []
  },
  {
   "cell_type": "markdown",
   "metadata": {},
   "source": [
    "10 Defina a função inverteLista que recebe como argumento uma lista w e devolve a mesma lista mas invertida.\n",
    "<br>\n",
    "Ex: inverteLista([1,2,3,4,5]) = [5, 4, 3, 2, 1]\n",
    "<br>\n",
    "Ex: inverteLista([])"
   ]
  },
  {
   "cell_type": "code",
   "execution_count": null,
   "metadata": {},
   "outputs": [],
   "source": []
  },
  {
   "cell_type": "code",
   "execution_count": null,
   "metadata": {},
   "outputs": [],
   "source": []
  }
 ],
 "metadata": {
  "kernelspec": {
   "display_name": "Python 3",
   "language": "python",
   "name": "python3"
  },
  "language_info": {
   "codemirror_mode": {
    "name": "ipython",
    "version": 3
   },
   "file_extension": ".py",
   "mimetype": "text/x-python",
   "name": "python",
   "nbconvert_exporter": "python",
   "pygments_lexer": "ipython3",
   "version": "3.7.0"
  }
 },
 "nbformat": 4,
 "nbformat_minor": 2
}
