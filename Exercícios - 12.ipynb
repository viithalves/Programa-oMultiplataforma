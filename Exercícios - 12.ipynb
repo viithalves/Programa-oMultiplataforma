{
 "cells": [
  {
   "cell_type": "markdown",
   "metadata": {},
   "source": [
    "### Exercício 12\n",
    "**Nome:** Vitor Alves Martins Lopes Barbosa <br>\n",
    "**RA:** 817122770"
   ]
  },
  {
   "cell_type": "markdown",
   "metadata": {},
   "source": [
    "1 Defina a função soma_nat que recebe como argumento um número natural  n   e devolve a soma de todos os números naturais até  n.\n",
    "<br>Ex: soma_nat(5) = 15 "
   ]
  },
  {
   "cell_type": "code",
   "execution_count": 5,
   "metadata": {},
   "outputs": [
    {
     "name": "stdout",
     "output_type": "stream",
     "text": [
      "15\n"
     ]
    }
   ],
   "source": [
    "def soma_nat(n):\n",
    "    assert n!=-1\n",
    "    i = 1\n",
    "    soma = 0\n",
    "    while n >= i:\n",
    "        soma = n * (n + 1) // 2\n",
    "        i += 1\n",
    "    else:\n",
    "        return print(soma)\n",
    "\n",
    "soma_nat(5)"
   ]
  },
  {
   "cell_type": "markdown",
   "metadata": {},
   "source": [
    "2 Defina a função div que recebe como argumentos dois números naturais  m   e  n  e devolve o resultado da divisão inteira de  m  por  n. Neste exercício você não pode recorrer às operações aritméticas de multiplicação, divisão e resto da divisão inteira.\n",
    "<br>Ex: div(7,2) = 3 "
   ]
  },
  {
   "cell_type": "code",
   "execution_count": 6,
   "metadata": {},
   "outputs": [
    {
     "name": "stdout",
     "output_type": "stream",
     "text": [
      "3\n"
     ]
    }
   ],
   "source": [
    "def div(m,n):\n",
    "    assert m!=0\n",
    "    return print(int(m/2))\n",
    "div(7,2)"
   ]
  },
  {
   "cell_type": "markdown",
   "metadata": {},
   "source": [
    "3 Defina a função prim_alg que recebe como argumento um número natural e devolve o primeiro algarismo (o mais significativo) na representação decimal de n. "
   ]
  },
  {
   "cell_type": "code",
   "execution_count": 9,
   "metadata": {},
   "outputs": [
    {
     "name": "stdout",
     "output_type": "stream",
     "text": [
      "5\n",
      "7\n"
     ]
    }
   ],
   "source": [
    "def prim_alg(n):\n",
    "    assert n!=\"0\"\n",
    "    return print(n[0])\n",
    "prim_alg(\"5649\")\n",
    "prim_alg(\"7\")"
   ]
  },
  {
   "cell_type": "markdown",
   "metadata": {},
   "source": [
    "4 Defina a função prod_lista que recebe como argumento uma lista de inteiros e devolve o produto dos seus elementos. \n",
    "<br>Ex: prod_lista([1,2,3,4,5,6]) = 720 "
   ]
  },
  {
   "cell_type": "code",
   "execution_count": 5,
   "metadata": {},
   "outputs": [
    {
     "data": {
      "text/plain": [
       "720"
      ]
     },
     "execution_count": 5,
     "metadata": {},
     "output_type": "execute_result"
    }
   ],
   "source": [
    "def prod_lista(list):\n",
    "    assert list!=[]\n",
    "    mult = 1\n",
    "    for x in range(0,len(list)):\n",
    "        mult = mult * list[x]\n",
    "    return mult\n",
    "\n",
    "prod_lista([1,2,3,4,5,6])"
   ]
  },
  {
   "cell_type": "markdown",
   "metadata": {},
   "source": [
    "5 Defina a função contem_parQ que recebe como argumento uma lista de números inteiros w e devolve True se w contém um número par e False em caso contrário.\n",
    "- Ex: contem_parQ([2,3,1,2,3,4]) = True\n",
    "- Ex: contem_parQ([1,3,5,7]) = False"
   ]
  },
  {
   "cell_type": "code",
   "execution_count": 3,
   "metadata": {},
   "outputs": [
    {
     "name": "stdout",
     "output_type": "stream",
     "text": [
      "True\n",
      "False\n",
      "False\n"
     ]
    }
   ],
   "source": [
    "def contem_parQ(lista):\n",
    "\n",
    "        if (lista==[]):\n",
    "            print(False)\n",
    "        else:\n",
    "            if (lista[len(lista)-1]%2==0):\n",
    "                print (lista[len(lista)-1]%2==0)\n",
    "            else:\n",
    "                lista.pop(len(lista)-1)\n",
    "                contem_parQ(lista)\n",
    "            \n",
    "lista=([3,4,7,8,2,3])\n",
    "contem_parQ(lista)\n",
    "\n",
    "lista=([7,7,7,3])\n",
    "contem_parQ(lista)\n",
    "lista=([7,7,7,3])\n",
    "contem_parQ(lista)"
   ]
  },
  {
   "cell_type": "markdown",
   "metadata": {},
   "source": [
    "6 Defina a função todos_imparesQ que recebe como argumento uma lista de\n",
    "números inteiros w e devolve True se w contém apenas números ímpares e False\n",
    "em caso contrário.\n",
    "<br>Ex: todos_imparesQ([1,3,5,7]) = True\n",
    "<br>Ex: todos_imparesQ([]) = True\n",
    "<br>Ex: todos_imparesQ([1,2,3,4,5]) = False"
   ]
  },
  {
   "cell_type": "code",
   "execution_count": 1,
   "metadata": {},
   "outputs": [
    {
     "name": "stdout",
     "output_type": "stream",
     "text": [
      "True\n",
      "True\n",
      "False\n"
     ]
    }
   ],
   "source": [
    "def todos_imparesQ(lista):\n",
    "\n",
    "        if (lista==[] or len(lista)==1):\n",
    "            print(True)\n",
    "        else:\n",
    "            if (lista[len(lista)-1]%2==0):\n",
    "                print(False)\n",
    "            else:\n",
    "                lista.pop(len(lista)-1)\n",
    "                todos_imparesQ(lista)\n",
    "            \n",
    "lista=([1,3,5,7])\n",
    "todos_imparesQ(lista)\n",
    "\n",
    "lista=([])\n",
    "todos_imparesQ(lista)\n",
    "\n",
    "lista=([1,2,3,4,5])\n",
    "todos_imparesQ(lista)"
   ]
  },
  {
   "cell_type": "markdown",
   "metadata": {},
   "source": [
    "7 Defina a função pertenceQ que recebe como argumentos uma lista de números\n",
    "inteiros w e um número inteiro n e devolve True se n ocorre em w e False em\n",
    "caso contrário.\n",
    "<br>Ex: pertenceQ([1,2,3],1) = True\n",
    "<br>Ex: pertenceQ([1,2,3],2) = True\n",
    "<br>Ex: pertenceQ([1,2,3],3) = True\n",
    "<br>Ex: pertenceQ([1,2,3],4) = False"
   ]
  },
  {
   "cell_type": "code",
   "execution_count": null,
   "metadata": {},
   "outputs": [],
   "source": []
  },
  {
   "cell_type": "markdown",
   "metadata": {},
   "source": [
    "8 Defina a função junta que recebe como argumentos duas listas de números\n",
    "inteiros w1 e w2 e devolve a concatenação de w1 com w2.\n",
    "<br>Ex: junta([1,2,3],[4,5,6]) = [1, 2, 3, 4, 5, 6]\n",
    "<br>Ex: junta([],[4,5,6]) = [4, 5, 6]\n",
    "<br>Ex: junta([1,2,3],[]) = [1, 2, 3]"
   ]
  },
  {
   "cell_type": "code",
   "execution_count": null,
   "metadata": {},
   "outputs": [],
   "source": []
  },
  {
   "cell_type": "markdown",
   "metadata": {},
   "source": [
    "9 Defina a função temPrimoQ que recebe como argumento uma lista de listas de números inteiros w e devolve True se alguma das sublistas w tem um número primo e False em caso contrário. \n",
    "<br>Ex: temPrimoQ([[4,4,4,4],[5,4,6,7],[2,4,3]]) = True \n",
    "<br>Ex: temPrimoQ([[4,4,4,4],[4,4,4],[],[4]]) = False"
   ]
  },
  {
   "cell_type": "code",
   "execution_count": 3,
   "metadata": {},
   "outputs": [],
   "source": [
    "primo = lambda n: len([i for i in range(2,n) if n%i==0])==0 \n",
    "extrai_lista = lambda w: None if len(w)==0 else w.pop()\n",
    "lista_primo = lambda v: False if v == None or len(v)==0 else True if primo(v.pop()) else lista_primo(v)\n",
    "temPrimoQ = lambda w: True if lista_primo(extrai_lista(w)) else False if len(w) == 0 else temPrimoQ(w)"
   ]
  },
  {
   "cell_type": "code",
   "execution_count": 4,
   "metadata": {},
   "outputs": [],
   "source": [
    "assert(temPrimoQ([[4,4,4,4],[5,4,6,7],[2,4,3]]) == True)\n",
    "assert(temPrimoQ([[4,4,4,4],[4,4,4],[],[4]]) == False)"
   ]
  },
  {
   "cell_type": "code",
   "execution_count": 5,
   "metadata": {},
   "outputs": [
    {
     "name": "stdout",
     "output_type": "stream",
     "text": [
      "True\n",
      "False\n",
      "False\n",
      "True\n"
     ]
    }
   ],
   "source": [
    "print(temPrimoQ([[4,4,4,4],[5,4,6,7],[2,4,3]]))\n",
    "print(temPrimoQ([[4,4,4,4],[4,4,4],[],[4]]))\n",
    "print(temPrimoQ([[]]))\n",
    "print(temPrimoQ([[2]]))"
   ]
  },
  {
   "cell_type": "markdown",
   "metadata": {},
   "source": [
    "10 Defina a função inverteLista que recebe como argumento uma lista w e devolve a\n",
    "mesma lista mas invertida.\n",
    "<br>Ex: inverteLista([1,2,3,4,5]) = [5, 4, 3, 2, 1]\n",
    "<br>Ex: inverteLista([])"
   ]
  },
  {
   "cell_type": "code",
   "execution_count": null,
   "metadata": {},
   "outputs": [],
   "source": []
  }
 ],
 "metadata": {
  "kernelspec": {
   "display_name": "Python 3",
   "language": "python",
   "name": "python3"
  },
  "language_info": {
   "codemirror_mode": {
    "name": "ipython",
    "version": 3
   },
   "file_extension": ".py",
   "mimetype": "text/x-python",
   "name": "python",
   "nbconvert_exporter": "python",
   "pygments_lexer": "ipython3",
   "version": "3.7.0"
  }
 },
 "nbformat": 4,
 "nbformat_minor": 2
}
