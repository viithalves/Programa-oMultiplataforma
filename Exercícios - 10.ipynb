{
 "cells": [
  {
   "cell_type": "markdown",
   "metadata": {},
   "source": [
    "### Exercício 10\n",
    "**Nome**: Vitor Alves Martins Lopes Barbosa  <br>\n",
    "**RA**: 817122770"
   ]
  },
  {
   "cell_type": "markdown",
   "metadata": {},
   "source": [
    "1 Faça um Programa que peça dois números e imprima o maior deles."
   ]
  },
  {
   "cell_type": "code",
   "execution_count": 1,
   "metadata": {},
   "outputs": [
    {
     "name": "stdout",
     "output_type": "stream",
     "text": [
      "O maior é: 4\n"
     ]
    }
   ],
   "source": [
    "num1 = 2\n",
    "num2 = 4\n",
    "if(num1 > num2):\n",
    "    print(\"O maior é:\", num1)\n",
    "else:\n",
    "    print(\"O maior é:\", num2)"
   ]
  },
  {
   "cell_type": "markdown",
   "metadata": {},
   "source": [
    "2 Faça um Programa que verifique se uma letra digitada é vogal ou consoante."
   ]
  },
  {
   "cell_type": "code",
   "execution_count": 1,
   "metadata": {},
   "outputs": [
    {
     "name": "stdout",
     "output_type": "stream",
     "text": [
      "É consoante!\n"
     ]
    }
   ],
   "source": [
    "letra = \"a\"\n",
    "if(letra == \"b\" or letra == 'e' or letra == 'i'or letra == 'o' or letra == 'u'):\n",
    "    print(\"É vogal!\")\n",
    "else:\n",
    "    print(\"É consoante!\")"
   ]
  },
  {
   "cell_type": "markdown",
   "metadata": {},
   "source": [
    "3 Faça um programa para a leitura de duas notas parciais de um aluno. O programa deve calcular a média alcançada por aluno e apresentar:\n",
    "- A mensagem \"Aprovado\", se a média alcançada for maior ou igual a sete;\n",
    "- A mensagem \"Reprovado\", se a média for menor do que sete;\n",
    "- A mensagem \"Aprovado com Distinção\", se a média for igual a dez."
   ]
  },
  {
   "cell_type": "code",
   "execution_count": 3,
   "metadata": {},
   "outputs": [
    {
     "name": "stdout",
     "output_type": "stream",
     "text": [
      "Reprovado!\n"
     ]
    }
   ],
   "source": [
    "n1 = 7\n",
    "n2 = 6\n",
    "\n",
    "media = (n1 + n2) / 2\n",
    "if(media == 10):\n",
    "    print(\"Aprovado com Distinção!\")\n",
    "elif(media < 7):\n",
    "    print(\"Reprovado!\")\n",
    "elif(media >= 7):\n",
    "    print(\"Aprovado!\")"
   ]
  },
  {
   "cell_type": "markdown",
   "metadata": {},
   "source": [
    "4 Faça um Programa que leia três números e mostre-os em ordem decrescente."
   ]
  },
  {
   "cell_type": "code",
   "execution_count": 4,
   "metadata": {},
   "outputs": [
    {
     "name": "stdout",
     "output_type": "stream",
     "text": [
      "3 2 1\n",
      "3 2 1\n",
      "3 2 1\n",
      "3 2 1\n",
      "3 1 2\n",
      "3 2 1\n"
     ]
    }
   ],
   "source": [
    "lista = [(1,2,3),(1,3,2),(2,1,3),(2,3,1),(3,1,2),(3,2,1)]\n",
    "for n1,n2,n3 in lista:\n",
    "    if(n1 > n2 and n1 > n3):\n",
    "        if(n2 > n3):\n",
    "            print(n1,n2,n3)\n",
    "        else:\n",
    "            print(n1,n2,n3)\n",
    "    elif (n2 > n1 and n2 > n3):\n",
    "        if (n1 > n3):\n",
    "            print(n2,n1,n3)\n",
    "        else:\n",
    "            print(n2,n3,n1)\n",
    "    else:\n",
    "        if(n1 > n2):\n",
    "            print(n3,n1,n2)\n",
    "        else:\n",
    "            print(n3,n2,n1)\n",
    "        "
   ]
  },
  {
   "cell_type": "markdown",
   "metadata": {},
   "source": [
    "5 s Organizações Tabajara resolveram dar um aumento de salário aos seus colaboradores e lhe contrataram para desenvolver o programa que calculará os reajustes. Faça um programa que recebe o salário de um colaborador e o reajuste segundo o seguinte critério, baseado no salário atual:\n",
    "<br>\n",
    "-salários até R$ 280,00 (incluindo) : aumento de 20%\n",
    "-salários entre R$ 280,00 e R$ 700,00 : aumento de 15%\n",
    "-salários entre R$ 700,00 e R$ 1500,00 : aumento de 10%\n",
    "-salários de R$ 1500,00 em diante : aumento de 5% Após o aumento ser realizado,\n",
    "informe na tela:\n",
    "<br>\n",
    "-o salário antes do reajuste;\n",
    "-o percentual de aumento aplicado;\n",
    "-o valor do aumento;\n",
    "-o novo salário, após o aumento."
   ]
  },
  {
   "cell_type": "code",
   "execution_count": 2,
   "metadata": {},
   "outputs": [
    {
     "name": "stdout",
     "output_type": "stream",
     "text": [
      "Salário antes do reajuste: R$ 50000.0\n",
      "Porcentagem do reajuste: 5%\n",
      "Valor do aumento: R$ 2500.0\n",
      "Salário reajustado: R$ 52500.0\n"
     ]
    }
   ],
   "source": [
    "salario = 50000.00\n",
    "\n",
    "if salario <= 280:\n",
    "    salarior = ((salario/100)*20) + salario\n",
    "    reajp = '20%'\n",
    "    reajv = (salario/100)*20\n",
    "elif salario > 280 and salario <= 700:\n",
    "    salarior = salario + (salario/100)*15\n",
    "    reajp = '15%'\n",
    "    reajv = (salario/100)*15\n",
    "elif salario > 700 and salario <= 1500:\n",
    "    salarior = salario + (salario/100)*10\n",
    "    reajp = '10%'\n",
    "    reajv = (salario/100)*10\n",
    "else:\n",
    "    salarior = salario + (salario/100)*5\n",
    "    reajp = '5%'\n",
    "    reajv = (salario/100)*5\n",
    "\n",
    "print (\"Salário antes do reajuste: R$\", salario)\n",
    "print (\"Porcentagem do reajuste:\", reajp)\n",
    "print (\"Valor do aumento: R$\", reajv)\n",
    "print (\"Salário reajustado: R$\", salarior)"
   ]
  },
  {
   "cell_type": "markdown",
   "metadata": {},
   "source": [
    "6 Faça um Programa que leia um número e exiba o dia correspondente da semana. (1-Domingo, 2- Segunda, etc.), se digitar outro valor deve aparecer valor inválido. "
   ]
  },
  {
   "cell_type": "code",
   "execution_count": 3,
   "metadata": {},
   "outputs": [
    {
     "name": "stdout",
     "output_type": "stream",
     "text": [
      "Sabádo\n"
     ]
    }
   ],
   "source": [
    "n = 7\n",
    "\n",
    "if n == 1:\n",
    "    print(\"Domingo\")\n",
    "elif n == 2:\n",
    "    print(\"Segunda\")\n",
    "elif n == 3:\n",
    "    print(\"Terça\")\n",
    "elif n == 4:\n",
    "    print(\"Quarta\")\n",
    "elif n == 5:\n",
    "    print(\"Quinta\")\n",
    "elif n == 6:\n",
    "    print(\"Sexta\")\n",
    "elif n == 7:\n",
    "    print(\"Sabádo\")\n",
    "else:\n",
    "    print(\"Valor inválido\")"
   ]
  },
  {
   "cell_type": "markdown",
   "metadata": {},
   "source": [
    "7 Faça um programa que lê as duas notas parciais obtidas por um aluno numa disciplina ao longo de um semestre, e calcule a sua média. A atribuição de conceitos obedece à tabela abaixo:   Média de Aproveitamento  Conceito   Entre 9.0 e 10.0        A   Entre 7.5 e 9.0         B   Entre 6.0 e 7.5         C   Entre 4.0 e 6.0         D   Entre 4.0 e zero        E O algoritmo deve mostrar na tela as notas, a média, o conceito correspondente e a mensagem “APROVADO” se o conceito for A, B ou C ou “REPROVADO” se o conceito for D ou E. "
   ]
  },
  {
   "cell_type": "code",
   "execution_count": 1,
   "metadata": {},
   "outputs": [
    {
     "name": "stdout",
     "output_type": "stream",
     "text": [
      "Primeira nota: 8.0\n",
      "Segunda nota: 4.0\n",
      "Média: 6.0\n",
      "C - APROVADO\n"
     ]
    }
   ],
   "source": [
    "n1 = 8.0\n",
    "n2 = 4.0\n",
    "\n",
    "media = (n1 + n2)/2\n",
    "\n",
    "if media >= 9.0 and media == 10.0:\n",
    "    print(\"Primeira nota:\", n1)\n",
    "    print(\"Segunda nota:\", n2)\n",
    "    print(\"Média:\", media)\n",
    "    print(\"A - APROVADO\")\n",
    "    \n",
    "elif media >= 7.5 and media < 9.0:\n",
    "    print(\"Primeira nota:\", n1)\n",
    "    print(\"Segunda nota:\", n2)\n",
    "    print(\"Média:\", media)\n",
    "    print(\"B - APROVADO\")\n",
    "    \n",
    "elif media >= 6.0 and media < 7.5:\n",
    "    print(\"Primeira nota:\", n1)\n",
    "    print(\"Segunda nota:\", n2)\n",
    "    print(\"Média:\", media)\n",
    "    print(\"C - APROVADO\")\n",
    "    \n",
    "elif media >= 4.0 and media < 6.0:\n",
    "    print(\"Primeira nota:\", n1)\n",
    "    print(\"Segunda nota:\", n2)\n",
    "    print(\"Média:\", media)\n",
    "    print(\"D - REPROVADO\")\n",
    "    \n",
    "elif media >= 0 and media < 4.0:\n",
    "    print(\"Primeira nota:\", n1)\n",
    "    print(\"Segunda nota:\", n2)\n",
    "    print(\"Média:\", media)\n",
    "    print(\"E - REPROVADO\")"
   ]
  },
  {
   "cell_type": "markdown",
   "metadata": {},
   "source": [
    "8 Faça um Programa que peça os 3 lados de um triângulo. O programa deverá informar se os valores podem ser um triângulo. Indique, caso os lados formem um triângulo, se o mesmo é: equilátero, isósceles ou escaleno. Dicas: - Três lados formam um triângulo quando a soma de quaisquer dois lados for maior que o terceiro; - Triângulo Equilátero: três lados iguais; - Triângulo Isósceles: quaisquer dois lados iguais; - Triângulo Escaleno: três lados diferentes; "
   ]
  },
  {
   "cell_type": "code",
   "execution_count": 2,
   "metadata": {},
   "outputs": [
    {
     "name": "stdout",
     "output_type": "stream",
     "text": [
      "Triângulo Escaleno\n"
     ]
    }
   ],
   "source": [
    "l1 = 5\n",
    "l2 = 8\n",
    "l3 = 3\n",
    "\n",
    "if l1 + l2 > l3:\n",
    "    if l1 == l2 and l1 == l3:\n",
    "        print(\"Triângulo Equilátero\")\n",
    "    elif l1 == l2 or l2 == l3 or l1 == l3:\n",
    "        print (\"Triângulo Isósceles\")\n",
    "    elif l1 != l2 and l3 or l2 != l1 and l3 or l1 != l3:\n",
    "        print (\"Triângulo Escaleno\")\n",
    "\n",
    "else:\n",
    "    print (\"Não é um triângulo\")"
   ]
  },
  {
   "cell_type": "markdown",
   "metadata": {},
   "source": [
    "9 Faça um programa que calcule as raízes de uma equação do segundo grau, na forma ax2 + bx + c. O programa deverá pedir os valores de a, b e c e fazer as consistências, informando ao usuário nas seguintes situações: - Se o usuário informar o valor de A igual a zero, a equação não é do segundo grau e o programa não deve fazer pedir os demais valores, sendo encerrado; - Se o delta calculado for negativo, a equação não possui raizes reais. Informe ao usuário e encerre o programa; - Se o delta calculado for igual a zero a equação possui apenas uma raiz real; informe-a ao usuário; - Se o delta for positivo, a equação possui duas raiz reais; informe-as ao usuário; "
   ]
  },
  {
   "cell_type": "code",
   "execution_count": 3,
   "metadata": {},
   "outputs": [
    {
     "name": "stdout",
     "output_type": "stream",
     "text": [
      "A equação não possui raizes reais pois o delta resulta em -55\n"
     ]
    }
   ],
   "source": [
    "a = 4\n",
    "\n",
    "if a == 0:\n",
    "    print(\"A equação não é do segundo grau\")\n",
    "    \n",
    "else:\n",
    "    b = 3\n",
    "    c = 4\n",
    "    delta = (b**2)-(4*a*c)\n",
    "    if delta <0:\n",
    "        print(f\"A equação não possui raizes reais pois o delta resulta em\", delta )\n",
    "    elif delta == 0:\n",
    "        print(f\"A equação resulta em delta\", delta,\"e possui apenas uma raiz real\")\n",
    "    elif delta > 0:\n",
    "        print(f\"A equação resulta em delta\", delta,\"e possui duas raizes reais\")"
   ]
  },
  {
   "cell_type": "markdown",
   "metadata": {},
   "source": [
    "10 Faça um Programa para um caixa eletrônico. O programa deverá perguntar ao usuário a valor do saque e depois informar quantas notas de cada valor serão fornecidas. As notas disponíveis serão as de 1, 5, 10, 50 e 100 reais. O valor mínimo é de 10 reais e o máximo de 600 reais. O programa não deve se preocupar com a quantidade de notas existentes na máquina.\n",
    "- Exemplo 1: Para sacar a quantia de 256 reais, o programa fornece duas notas de 100, uma nota de 50, uma nota de 5 e uma nota de 1;\n",
    "- Exemplo 2: Para sacar a quantia de 399 reais, o programa fornece três notas de 100, uma nota de 50, quatro notas de 10, uma nota de 5 e quatro notas de 1."
   ]
  },
  {
   "cell_type": "code",
   "execution_count": 4,
   "metadata": {},
   "outputs": [
    {
     "name": "stdout",
     "output_type": "stream",
     "text": [
      "Qual o valor? (validos entre 10 e 600)500\n",
      "As notas são:  [100, 100, 100, 100, 100]\n"
     ]
    }
   ],
   "source": [
    "notas = [1, 5, 10, 50, 100]\n",
    "valor = int(input('Qual o valor? (validos entre 10 e 600)'))\n",
    "\n",
    "if valor >= 10 and valor <= 600:\n",
    "    quantia = 0\n",
    "    saida = list()\n",
    "    p = 4\n",
    "    while quantia < valor and p >= 0:\n",
    "        if valor - notas[p] >= 0:\n",
    "            saida.append(notas[p])\n",
    "            valor -= notas[p]\n",
    "        else:\n",
    "            p -= 1\n",
    "    print('As notas são: ', saida)\n",
    "else:\n",
    "    print('Valor inválido.')"
   ]
  },
  {
   "cell_type": "markdown",
   "metadata": {},
   "source": [
    "11 Faça um programa que faça 5 perguntas para uma pessoa sobre um crime. As perguntas são:\n",
    "\"Telefonou para a vítima?\"\n",
    "\"Esteve no local do crime?\"\n",
    "\"Mora perto da vítima?\"\n",
    "\"Devia para a vítima?\"\n",
    "\"Já trabalhou com a vítima?\"\n",
    "O programa deve no final emitir uma classificação sobre a participação da pessoa no crime. Se a pessoa responder positivamente a 2 questões ela deve ser classificada como \"Suspeita\", entre 3 e 4 como \"Cúmplice\" e 5 como \"Assassino\". Caso contrário, ele será classificado como \"Inocente\"."
   ]
  },
  {
   "cell_type": "code",
   "execution_count": 5,
   "metadata": {},
   "outputs": [
    {
     "name": "stdout",
     "output_type": "stream",
     "text": [
      "Telefonou para a vítima?S/N :n\n",
      "Esteve no local do crime?S/N :n\n",
      "Mora perto da vítima?S/N :s\n",
      "Devia para a vítima?S/N :n\n",
      "Já trabalhou com a vítima?S/N :n\n",
      "O investigado é inocente.\n"
     ]
    }
   ],
   "source": [
    "interrogatorio = {\"Telefonou para a vítima?\":False,\n",
    "    \"Esteve no local do crime?\":False, \n",
    "    \"Mora perto da vítima?\":False,\n",
    "    \"Devia para a vítima?\":False,\n",
    "    \"Já trabalhou com a vítima?\":False}\n",
    "for item in interrogatorio:\n",
    "    interrogatorio[item]=input(item + 'S/N :').upper()=='S'\n",
    "respostas = (sum(interrogatorio.values()))\n",
    "\n",
    "if respostas == 0 or respostas == 1:\n",
    "    situacao = 'inocente'\n",
    "elif respostas == 2:\n",
    "    situacao = 'suspeito'\n",
    "elif respostas == 3 or respostas == 4:\n",
    "    situacao = 'cúmplice'\n",
    "elif respostas == 5:\n",
    "    situacao = 'assassino'\n",
    "    \n",
    "print(f'O investigado é {situacao}.')"
   ]
  },
  {
   "cell_type": "markdown",
   "metadata": {},
   "source": [
    "12 Uma fruteira está vendendo frutas com a seguinte tabela de preços: \n",
    "<br>              Até 5 (Kg)           Acima de 5 (Kg)          \n",
    "Morango     R$ 2,50 por (Kg)          R$ 2,20 por (Kg) \n",
    "<br>\n",
    "Maçã        R$ 1,80 por (Kg)          R$ 1,50 por (Kg)\n",
    "<br>\n",
    "Se o cliente comprar mais de 8 Kg em frutas ou o valor total da compra ultrapassar R$ 25,00, receberá ainda um desconto de 10(por cento) sobre este total. Escreva um algoritmo para ler a quantidade (em Kg) de morangos e a quantidade (em Kg) de maças adquiridas e escreva o valor a ser pago pelo cliente. "
   ]
  },
  {
   "cell_type": "code",
   "execution_count": 12,
   "metadata": {},
   "outputs": [
    {
     "name": "stdout",
     "output_type": "stream",
     "text": [
      "Total a pagar R$ 11.1\n"
     ]
    }
   ],
   "source": [
    "precoMorango1 = 2.50\n",
    "precoMorango2 = 2.20\n",
    "precoMaca1 = 1.80\n",
    "precoMaca2 = 1.50\n",
    "\n",
    "qtdMorango = 3.0\n",
    "qtdMaca = 2.0\n",
    " \n",
    "if qtdMorango <= 5:\n",
    "    totalApagarMorango = (qtdMorango * precoMorango1)\n",
    "else:\n",
    "    totalApagarMorango = (qtdMorango * precoMorango2)\n",
    "    \n",
    "if qtdMaca <= 5:\n",
    "    totalApagarMaca = (qtdMaca * precoMaca1)\n",
    "else:\n",
    "    totalApagarMaca = (qtdMaca * precoMaca2)\n",
    "\n",
    "totalApagar = totalApagarMorango + totalApagarMaca\n",
    " \n",
    "if (qtdMorango + qtdMaca) > 8 or totalApagar > 25.00:\n",
    "    totalApagar = totalApagar - totalApagar * 0.10\n",
    "    \n",
    "print (\"Total a pagar R$\" , totalApagar)"
   ]
  },
  {
   "cell_type": "markdown",
   "metadata": {},
   "source": [
    "13 Faça um programa que peça uma nota, entre zero e dez. Mostre uma mensagem caso o valor seja inválido e continue pedindo até que o usuário informe um valor válido."
   ]
  },
  {
   "cell_type": "code",
   "execution_count": 9,
   "metadata": {},
   "outputs": [
    {
     "name": "stdout",
     "output_type": "stream",
     "text": [
      "O número 8 está no intervalo!\n"
     ]
    }
   ],
   "source": [
    "nota = 8\n",
    "while 0 > nota or 10 < nota:\n",
    "    nota = 7\n",
    "else:\n",
    "    print(\"O número\",nota,\"está no intervalo!\")"
   ]
  },
  {
   "cell_type": "markdown",
   "metadata": {},
   "source": [
    "13 Faça um programa que leia e valide as seguintes informações: Nome: maior que 3 caracteres; Idade: entre 0 e 150;  Salário: maior que zero; Sexo: 'f' ou 'm'; Estado Civil: 's', 'c', 'v', 'd'; "
   ]
  },
  {
   "cell_type": "code",
   "execution_count": 10,
   "metadata": {},
   "outputs": [
    {
     "name": "stdout",
     "output_type": "stream",
     "text": [
      "Gabriel\n",
      "23\n",
      "800.0\n",
      "m\n",
      "s\n"
     ]
    }
   ],
   "source": [
    "nome = \"a\"\n",
    "while len(nome) <= 3:\n",
    "    nome = \"Gabriel\"\n",
    "\n",
    "idade = -1\n",
    "while idade < 0 or idade > 150:\n",
    "    idade = 23\n",
    "\n",
    "salario = 0\n",
    "while salario <= 0:\n",
    "    salario = 800.000\n",
    "\n",
    "sexo = \"p\"\n",
    "while sexo != \"f\" and sexo != \"m\":\n",
    "    sexo = 'm'\n",
    "estadoCivil = \"n\"\n",
    "while estadoCivil != \"s\" and estadoCivil != \"c\" and estadoCivil != \"v\" and estadoCivil != \"d\":\n",
    "    estadoCivil = 's'\n",
    "print(nome)\n",
    "print(idade)\n",
    "print(salario)\n",
    "print(sexo)\n",
    "print(estadoCivil)"
   ]
  },
  {
   "cell_type": "markdown",
   "metadata": {},
   "source": [
    "14 Faça um programa que leia 5 números e informe o maior número."
   ]
  },
  {
   "cell_type": "code",
   "execution_count": 11,
   "metadata": {},
   "outputs": [
    {
     "name": "stdout",
     "output_type": "stream",
     "text": [
      "O maior número é 10\n"
     ]
    }
   ],
   "source": [
    "lista = []\n",
    "\n",
    "while True:\n",
    "    lista.append(9)\n",
    "    lista.append(3)\n",
    "    lista.append(1)\n",
    "    lista.append(10)\n",
    "    lista.append(2)\n",
    "    break\n",
    "\n",
    "print(\"O maior número é\", max(lista))"
   ]
  },
  {
   "cell_type": "markdown",
   "metadata": {},
   "source": [
    "15 Faça um programa que leia 5 números e informe a soma e a média dos números."
   ]
  },
  {
   "cell_type": "code",
   "execution_count": 6,
   "metadata": {},
   "outputs": [
    {
     "name": "stdout",
     "output_type": "stream",
     "text": [
      "Escreva um numero: 4\n",
      "Escreva um numero: 5\n",
      "Escreva um numero: 1\n",
      "Escreva um numero: 3\n",
      "Escreva um numero: 6\n",
      "soma:  19\n",
      "media:  3.8\n"
     ]
    }
   ],
   "source": [
    "soma = 0\n",
    "for n in range(5):\n",
    "    soma += int(input(\"Escreva um numero: \"))\n",
    "print(\"soma: \", soma)\n",
    "print(\"media: \", soma/5)"
   ]
  },
  {
   "cell_type": "markdown",
   "metadata": {},
   "source": [
    "16 Faça um programa que imprima na tela apenas os números ímpares entre 1 e 50."
   ]
  },
  {
   "cell_type": "code",
   "execution_count": 12,
   "metadata": {},
   "outputs": [
    {
     "name": "stdout",
     "output_type": "stream",
     "text": [
      "1\n",
      "3\n",
      "5\n",
      "7\n",
      "9\n",
      "11\n",
      "13\n",
      "15\n",
      "17\n",
      "19\n",
      "21\n",
      "23\n",
      "25\n",
      "27\n",
      "29\n",
      "31\n",
      "33\n",
      "35\n",
      "37\n",
      "39\n",
      "41\n",
      "43\n",
      "45\n",
      "47\n",
      "49\n"
     ]
    }
   ],
   "source": [
    "for i in range(1,50):\n",
    "    if i % 2 != 0:\n",
    "        print(i)\n",
    "        i += 1"
   ]
  },
  {
   "cell_type": "markdown",
   "metadata": {},
   "source": [
    "17 Desenvolva um gerador de tabuada, capaz de gerar a tabuada de qualquer número inteiro entre 1 a 10. O usuário deve informar de qual numero ele deseja ver a tabuada. A saída deve ser conforme o exemplo abaixo: Tabuada de 5: 5 X 1 = 5 5 X 2 = 10 ... 5 X 10 = 50 "
   ]
  },
  {
   "cell_type": "code",
   "execution_count": 13,
   "metadata": {},
   "outputs": [
    {
     "name": "stdout",
     "output_type": "stream",
     "text": [
      "9 x 1 = 9\n",
      "9 x 2 = 18\n",
      "9 x 3 = 27\n",
      "9 x 4 = 36\n",
      "9 x 5 = 45\n",
      "9 x 6 = 54\n",
      "9 x 7 = 63\n",
      "9 x 8 = 72\n",
      "9 x 9 = 81\n",
      "9 x 10 = 90\n"
     ]
    }
   ],
   "source": [
    "tab = 9\n",
    "inicio = 1\n",
    "while(inicio <= 10):\n",
    "    print(tab,\"x\" ,inicio,\"=\", (inicio * tab))\n",
    "    inicio += 1"
   ]
  },
  {
   "cell_type": "markdown",
   "metadata": {},
   "source": [
    "18 A série de Fibonacci é formada pela seqüência 1,1,2,3,5,8,13,21,34,55,... Faça um programa capaz de gerar a série até o n−ésimo termo."
   ]
  },
  {
   "cell_type": "code",
   "execution_count": 7,
   "metadata": {},
   "outputs": [
    {
     "name": "stdout",
     "output_type": "stream",
     "text": [
      "[1, 1, 2, 3, 5, 8, 13, 21, 34, 55]\n"
     ]
    }
   ],
   "source": [
    "n = 10\n",
    "lista = [1,1]\n",
    "for i in range(2,n):\n",
    "    lista.append(lista[i-2]+lista[i-1])\n",
    "if n == 1:\n",
    "    print([1])\n",
    "else:\n",
    "    print(lista)"
   ]
  },
  {
   "cell_type": "markdown",
   "metadata": {},
   "source": [
    "19 Faça um programa que calcule o fatorial de um número inteiro fornecido pelo usuário. Ex.: 5!=5.4.3.2.1=120 "
   ]
  },
  {
   "cell_type": "code",
   "execution_count": 17,
   "metadata": {},
   "outputs": [
    {
     "name": "stdout",
     "output_type": "stream",
     "text": [
      "5 != [5, 4, 3, 2] * 1 = 120\n"
     ]
    }
   ],
   "source": [
    "n = 0\n",
    "while (n <= 0):\n",
    "    n = 5\n",
    "    if (n <= 0):\n",
    "        print (\"O número deve ser positivo!\")\n",
    "\n",
    "fatorial = 1\n",
    "for i in reversed(range(2, n + 1)):\n",
    "    fatorial *= i\n",
    "\n",
    "rep = []\n",
    "for x in reversed(range(2, n + 1)):\n",
    "    rep.append(x)\n",
    "\n",
    "print (n ,\"!=\" , rep[::], \"* 1 =\",fatorial)"
   ]
  },
  {
   "cell_type": "markdown",
   "metadata": {},
   "source": [
    "20 O Sr. Manoel Joaquim possui uma grande loja de artigos de RS 1,99, com cerca de 10 caixas. Para agilizar o cálculo de quanto cada cliente deve pagar ele desenvolveu um tabela que contém o número de itens que o cliente comprou e ao lado o valor da conta. Desta forma a atendente do caixa precisa apenas contar quantos itens o cliente está levando e olhar na tabela de preços. Você foi contratado para desenvolver o programa que monta esta tabela de preços, que conterá os preços de 1 até 50 produtos, conforme o exemplo abaixo:  Lojas Quase Dois - Tabela de preços 1 - RS 1.99 2 - RS 3.98 ... 50 - RS 99.50"
   ]
  },
  {
   "cell_type": "code",
   "execution_count": 21,
   "metadata": {},
   "outputs": [
    {
     "name": "stdout",
     "output_type": "stream",
     "text": [
      "Tabelas de preços\n",
      "1 - R$ 1.99\n",
      "2 - R$ 3.98\n",
      "3 - R$ 5.97\n",
      "4 - R$ 7.96\n",
      "5 - R$ 9.95\n",
      "6 - R$ 11.94\n",
      "7 - R$ 13.93\n",
      "8 - R$ 15.92\n",
      "9 - R$ 17.91\n",
      "10 - R$ 19.9\n",
      "11 - R$ 21.89\n",
      "12 - R$ 23.88\n",
      "13 - R$ 25.87\n",
      "14 - R$ 27.86\n",
      "15 - R$ 29.85\n",
      "16 - R$ 31.84\n",
      "17 - R$ 33.83\n",
      "18 - R$ 35.82\n",
      "19 - R$ 37.81\n",
      "20 - R$ 39.8\n",
      "21 - R$ 41.79\n",
      "22 - R$ 43.78\n",
      "23 - R$ 45.77\n",
      "24 - R$ 47.76\n",
      "25 - R$ 49.75\n",
      "26 - R$ 51.74\n",
      "27 - R$ 53.73\n",
      "28 - R$ 55.72\n",
      "29 - R$ 57.71\n",
      "30 - R$ 59.7\n",
      "31 - R$ 61.69\n",
      "32 - R$ 63.68\n",
      "33 - R$ 65.67\n",
      "34 - R$ 67.66\n",
      "35 - R$ 69.65\n",
      "36 - R$ 71.64\n",
      "37 - R$ 73.63\n",
      "38 - R$ 75.62\n",
      "39 - R$ 77.61\n",
      "40 - R$ 79.6\n",
      "41 - R$ 81.59\n",
      "42 - R$ 83.58\n",
      "43 - R$ 85.57\n",
      "44 - R$ 87.56\n",
      "45 - R$ 89.55\n",
      "46 - R$ 91.54\n",
      "47 - R$ 93.53\n",
      "48 - R$ 95.52\n",
      "49 - R$ 97.51\n",
      "50 - R$ 99.5\n"
     ]
    }
   ],
   "source": [
    "x = 1\n",
    "valor = 1.99\n",
    "\n",
    "print(\"Tabelas de preços\")\n",
    "\n",
    "for x in range(1,51):\n",
    "    print(x, \"- R$\" ,x*valor)\n",
    "    x += 1"
   ]
  },
  {
   "cell_type": "markdown",
   "metadata": {},
   "source": [
    "21 O Sr. Manoel Joaquim acaba de adquirir uma panificadora e pretende implantar a metodologia da tabelinha, que já é um sucesso na sua loja de 1,99. Você foi contratado para desenvolver o programa que monta a tabela de preços de pães, de 1 até 50 pães, a partir do preço do pão informado pelo usuário, conforme o exemplo abaixo: Preço do pão: RS 0.18 Panificadora Pão de Ontem Tabela de preços 1 - RS 0.18 2 - RS 0.36 ... 50 - RS 9.00 "
   ]
  },
  {
   "cell_type": "code",
   "execution_count": null,
   "metadata": {},
   "outputs": [
    {
     "name": "stdout",
     "output_type": "stream",
     "text": [
      "Tabelas de preços\n",
      "1 - R$ 0.18\n",
      "2 - R$ 0.36\n",
      "3 - R$ 0.54\n",
      "4 - R$ 0.72\n",
      "5 - R$ 0.8999999999999999\n",
      "6 - R$ 1.08\n",
      "7 - R$ 1.26\n",
      "8 - R$ 1.44\n",
      "9 - R$ 1.6199999999999999\n",
      "10 - R$ 1.7999999999999998\n",
      "11 - R$ 1.98\n",
      "12 - R$ 2.16\n",
      "13 - R$ 2.34\n",
      "14 - R$ 2.52\n",
      "15 - R$ 2.6999999999999997\n",
      "16 - R$ 2.88\n",
      "17 - R$ 3.06\n",
      "18 - R$ 3.2399999999999998\n",
      "19 - R$ 3.42\n",
      "20 - R$ 3.5999999999999996\n",
      "21 - R$ 3.78\n",
      "22 - R$ 3.96\n",
      "23 - R$ 4.14\n",
      "24 - R$ 4.32\n",
      "25 - R$ 4.5\n",
      "26 - R$ 4.68\n",
      "27 - R$ 4.859999999999999\n",
      "28 - R$ 5.04\n",
      "29 - R$ 5.22\n",
      "30 - R$ 5.3999999999999995\n",
      "31 - R$ 5.58\n",
      "32 - R$ 5.76\n",
      "33 - R$ 5.9399999999999995\n",
      "34 - R$ 6.12\n",
      "35 - R$ 6.3\n",
      "36 - R$ 6.4799999999999995\n",
      "37 - R$ 6.66\n",
      "38 - R$ 6.84\n",
      "39 - R$ 7.02\n",
      "40 - R$ 7.199999999999999\n",
      "41 - R$ 7.38\n",
      "42 - R$ 7.56\n",
      "43 - R$ 7.739999999999999\n",
      "44 - R$ 7.92\n",
      "45 - R$ 8.1\n",
      "46 - R$ 8.28\n",
      "47 - R$ 8.459999999999999\n",
      "48 - R$ 8.64\n",
      "49 - R$ 8.82\n",
      "50 - R$ 9.0\n"
     ]
    }
   ],
   "source": [
    "x = 1\n",
    "valor = 0.18\n",
    "\n",
    "print(\"Tabelas de preços\")\n",
    "\n",
    "for x in range(1,51):\n",
    "    print(x, \"- R$\" ,x*valor)\n",
    "    x += 1"
   ]
  },
  {
   "cell_type": "markdown",
   "metadata": {},
   "source": [
    "22 O Sr. Manoel Joaquim expandiu seus negócios para além dos negócios de 1,99 e agora possui uma loja de conveniências. Faça um programa que implemente uma caixa registradora rudimentar. O programa deverá receber um número desconhecido de valores referentes aos preços das mercadorias. Um valor zero deve ser informado pelo operador para indicar o final da compra. O programa deve então mostrar o total da compra e perguntar o valor em dinheiro que o cliente forneceu, para então calcular e mostrar o valor do troco. Após esta operação, o programa deverá voltar ao ponto inicial, para registrar a próxima compra. A saída deve ser conforme o exemplo abaixo: Lojas Tabajara  Produto 1: RS 2.20 Produto 2: RS 5.80 Produto 3: RS 0 Total: RS 9.00 Dinheiro: RS 20.00 Troco: RS 11.00 ..."
   ]
  },
  {
   "cell_type": "code",
   "execution_count": 18,
   "metadata": {},
   "outputs": [
    {
     "name": "stdout",
     "output_type": "stream",
     "text": [
      "Lojas Tabajara\n",
      "Produto 1: R$ 2.20\n",
      "Produto 2: R$ 5.80\n",
      "Produto 3: R$ 0\n",
      "Total: R$ 8.00\n",
      "Dinheiro: R$ 9.00\n",
      "Troco: R$ 1.00 \n",
      "...\n"
     ]
    }
   ],
   "source": [
    "soma = 0.00\n",
    "quantidade = 1\n",
    "precoMercadoria = 1\n",
    "\n",
    "print(\"Lojas Tabajara\")\n",
    "\n",
    "while (precoMercadoria != 0):\n",
    "    precoMercadoria = float(input('Produto %d: R$ ' % (quantidade)))\n",
    "    quantidade = quantidade + 1\n",
    "    soma += precoMercadoria\n",
    "\n",
    "print (\"Total: R$ %.2f\" % soma)\n",
    "pagamento = float(input(\"Dinheiro: R$ \"))\n",
    "\n",
    "print (\"Troco: R$ %.2f \\n...\" % (pagamento - soma))"
   ]
  },
  {
   "cell_type": "markdown",
   "metadata": {},
   "source": [
    "23 Foi feita uma estatística em cinco cidades brasileiras para coletar dados sobre acidentes de trânsito. Foram obtidos os seguintes dados: - Código da cidade; - Número de veículos de passeio (em 1999); - Número de acidentes de trânsito com vítimas (em 1999). Deseja-se saber: - Qual o maior e menor índice de acidentes de transito e a que cidade pertence; - Qual a média de veículos nas cinco cidades juntas; - Qual a média de acidentes de trânsito nas cidades com menos de 2.000 veículos de passeio. \n",
    " "
   ]
  },
  {
   "cell_type": "code",
   "execution_count": 19,
   "metadata": {},
   "outputs": [
    {
     "name": "stdout",
     "output_type": "stream",
     "text": [
      "Informe o código da cidade 1: 2\n",
      "Informe o número de veiculos de passeio (em 1999) da cidade 1: 1000\n",
      "Informe a quantidade de acidentes (em 1999) da cidade 1: 2\n",
      "Informe o código da cidade 2: 4\n",
      "Informe o número de veiculos de passeio (em 1999) da cidade 2: 200\n",
      "Informe a quantidade de acidentes (em 1999) da cidade 2: 1\n",
      "Informe o código da cidade 3: 500\n",
      "Informe o número de veiculos de passeio (em 1999) da cidade 3: 4\n",
      "Informe a quantidade de acidentes (em 1999) da cidade 3: 0\n",
      "Informe o código da cidade 4: 600\n",
      "Informe o número de veiculos de passeio (em 1999) da cidade 4: 2\n",
      "Informe a quantidade de acidentes (em 1999) da cidade 4: 1\n",
      "Informe o código da cidade 5: 20000\n",
      "Informe o número de veiculos de passeio (em 1999) da cidade 5: 9000000\n",
      "Informe a quantidade de acidentes (em 1999) da cidade 5: 5678\n",
      "A cidade com maior indice de acidentes é a cidade: 600 com 0.5 %\n",
      "A cidade com menor indice de acidentes é a cidade: 500 com 0.0 %\n",
      "A media de veiculos nas cidades é: 1800241.2 %\n",
      "A media de acidentes de transito nas cidades com menos de 2.000 veículos é: 1.0 %\n"
     ]
    }
   ],
   "source": [
    "somaVeiculos = 0\n",
    "somaAcidentes = 0\n",
    "somaAcidentesMenos2Mil = 0\n",
    "totalCidadesMenos2Mil = 0\n",
    "cidade = 1\n",
    "\n",
    "for i in range(0, 5):\n",
    "    codigo = input(\"Informe o código da cidade %d: \" % cidade)\n",
    "    veiculos = int(input(\"Informe o número de veiculos de passeio (em 1999) da cidade %d: \" % cidade))\n",
    "    acidentes = int(input(\"Informe a quantidade de acidentes (em 1999) da cidade %d: \" % cidade))\n",
    "    cidade += 1\n",
    "    \n",
    "    indiceAcidentes = acidentes / (veiculos)\n",
    "    somaVeiculos += veiculos\n",
    "    \n",
    "    if ('maisAcidentes' not in vars()) or (indiceAcidentes > maisAcidentes):\n",
    "        maisAcidentes = indiceAcidentes\n",
    "        codigoMaisAcidentes = codigo\n",
    "    if ('menosAcidentes' not in vars()) or (indiceAcidentes < menosAcidentes):\n",
    "        menosAcidentes = indiceAcidentes\n",
    "        codigoMenosAcidentes = codigo\n",
    "\n",
    "    if (veiculos < 2000):\n",
    "        somaAcidentesMenos2Mil += acidentes\n",
    "        totalCidadesMenos2Mil += 1\n",
    "\n",
    "print (\"A cidade com maior indice de acidentes é a cidade:\" ,codigoMaisAcidentes, \"com\", maisAcidentes, \"%\")\n",
    "print (\"A cidade com menor indice de acidentes é a cidade:\" ,codigoMenosAcidentes, \"com\", menosAcidentes,\"%\")\n",
    "print (\"A media de veiculos nas cidades é:\" , somaVeiculos / 5.0 ,\"%\")\n",
    "print (\"A media de acidentes de transito nas cidades com menos de 2.000 veículos é:\", somaAcidentesMenos2Mil / totalCidadesMenos2Mil,\"%\")"
   ]
  },
  {
   "cell_type": "markdown",
   "metadata": {},
   "source": [
    "24 Faça um programa que receba o valor de uma dívida e mostre uma tabela com os seguintes dados: valor da dívida, valor dos juros, quantidade de parcelas e valor da parcela. Os juros e a quantidade de parcelas seguem a tabela abaixo: Quantidade de Parcelas  % de Juros sobre o valor inicial da dívida  1       0 3       10 6       15 9       20 12      25   Exemplo de saída do programa: Valor da Dívida Valor dos Juros Quantidade de Parcelas  Valor da Parcela RS 1.000,00     0               1                    RS  1.000,00 RS 1.100,00     100             3                       RS    366,00 RS 1.150,00     150             6                       RS    191,67 "
   ]
  },
  {
   "cell_type": "code",
   "execution_count": 21,
   "metadata": {},
   "outputs": [
    {
     "name": "stdout",
     "output_type": "stream",
     "text": [
      "Valor da divida\tValor dos Juros\tQuantidade de Parcelas\tValor da Parcela\n",
      "R$ 1000.0 R$ 0.0 1 R$ 1000.0\n",
      "R$ 1100.0 R$ 100.0 3 R$ 366.6666666666667\n",
      "R$ 1150.0 R$ 150.0 6 R$ 191.66666666666666\n",
      "R$ 1200.0 R$ 200.0 9 R$ 133.33333333333334\n",
      "R$ 1250.0 R$ 250.0 12 R$ 104.16666666666667\n"
     ]
    }
   ],
   "source": [
    "divida = 1000.00\n",
    "\n",
    "print(\"Valor da divida\\tValor dos Juros\\tQuantidade de Parcelas\\tValor da Parcela\")\n",
    "    \n",
    "juros = 0\n",
    "for i in [1, 3, 6, 9, 12]:\n",
    "    valorJuros = (divida * (juros / 100.0))\n",
    "    valorDivida = divida + valorJuros\n",
    "    valorParcela = valorDivida / float(i)\n",
    "    print (\"R$\", valorDivida, \"R$\",valorJuros, i,\"R$\", valorParcela)\n",
    "    if (i == 1):\n",
    "        juros = 10\n",
    "    else:\n",
    "        juros += 5"
   ]
  },
  {
   "cell_type": "markdown",
   "metadata": {},
   "source": [
    "25 Faça um programa que mostre os n termos da Série a seguir:   S = 1/1 + 2/3 + 3/5 + 4/7 + 5/9 + ... + n/m.  Imprima no final a soma da série. "
   ]
  },
  {
   "cell_type": "code",
   "execution_count": 22,
   "metadata": {},
   "outputs": [
    {
     "name": "stdout",
     "output_type": "stream",
     "text": [
      "S = 1 / 3\n",
      "S = 2 / 5\n",
      "S = 3 / 7\n",
      "S = 4 / 9\n",
      "S = 5 / 11\n",
      "S = 6 / 13\n",
      "Soma da série é:  3.9391053391053386\n"
     ]
    }
   ],
   "source": [
    "termos = 6\n",
    "\n",
    "s = 0.0\n",
    "denominador = 1\n",
    "for i in range(1, termos + 1):\n",
    "    s += i / denominador\n",
    "    denominador += 2\n",
    "    print (\"S =\", i, \"/\", denominador)\n",
    "print (\"Soma da série é: \", s)"
   ]
  },
  {
   "cell_type": "code",
   "execution_count": null,
   "metadata": {},
   "outputs": [],
   "source": []
  }
 ],
 "metadata": {
  "kernelspec": {
   "display_name": "Python 3",
   "language": "python",
   "name": "python3"
  },
  "language_info": {
   "codemirror_mode": {
    "name": "ipython",
    "version": 3
   },
   "file_extension": ".py",
   "mimetype": "text/x-python",
   "name": "python",
   "nbconvert_exporter": "python",
   "pygments_lexer": "ipython3",
   "version": "3.7.0"
  }
 },
 "nbformat": 4,
 "nbformat_minor": 2
}
